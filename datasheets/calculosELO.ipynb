{
 "cells": [
  {
   "cell_type": "code",
   "execution_count": 2,
   "metadata": {},
   "outputs": [],
   "source": [
    "import pandas as pd\n",
    "from matplotlib import pyplot as plt\n",
    "\n",
    "import numpy as np\n",
    "import statsmodels.api as sm"
   ]
  },
  {
   "cell_type": "code",
   "execution_count": 50,
   "metadata": {},
   "outputs": [
    {
     "data": {
      "text/html": [
       "<div>\n",
       "<style scoped>\n",
       "    .dataframe tbody tr th:only-of-type {\n",
       "        vertical-align: middle;\n",
       "    }\n",
       "\n",
       "    .dataframe tbody tr th {\n",
       "        vertical-align: top;\n",
       "    }\n",
       "\n",
       "    .dataframe thead th {\n",
       "        text-align: right;\n",
       "    }\n",
       "</style>\n",
       "<table border=\"1\" class=\"dataframe\">\n",
       "  <thead>\n",
       "    <tr style=\"text-align: right;\">\n",
       "      <th></th>\n",
       "      <th>depth</th>\n",
       "      <th>elo</th>\n",
       "      <th>ci</th>\n",
       "    </tr>\n",
       "  </thead>\n",
       "  <tbody>\n",
       "    <tr>\n",
       "      <th>0</th>\n",
       "      <td>20</td>\n",
       "      <td>2894</td>\n",
       "      <td>[2859</td>\n",
       "    </tr>\n",
       "    <tr>\n",
       "      <th>1</th>\n",
       "      <td>19</td>\n",
       "      <td>2828</td>\n",
       "      <td>[2786</td>\n",
       "    </tr>\n",
       "    <tr>\n",
       "      <th>2</th>\n",
       "      <td>18</td>\n",
       "      <td>2761</td>\n",
       "      <td>[2714</td>\n",
       "    </tr>\n",
       "    <tr>\n",
       "      <th>3</th>\n",
       "      <td>17</td>\n",
       "      <td>2695</td>\n",
       "      <td>[2642</td>\n",
       "    </tr>\n",
       "    <tr>\n",
       "      <th>4</th>\n",
       "      <td>16</td>\n",
       "      <td>2629</td>\n",
       "      <td>[2570</td>\n",
       "    </tr>\n",
       "    <tr>\n",
       "      <th>5</th>\n",
       "      <td>15</td>\n",
       "      <td>2563</td>\n",
       "      <td>[2498</td>\n",
       "    </tr>\n",
       "    <tr>\n",
       "      <th>6</th>\n",
       "      <td>14</td>\n",
       "      <td>2496</td>\n",
       "      <td>[2426</td>\n",
       "    </tr>\n",
       "    <tr>\n",
       "      <th>7</th>\n",
       "      <td>13</td>\n",
       "      <td>2430</td>\n",
       "      <td>[2354</td>\n",
       "    </tr>\n",
       "    <tr>\n",
       "      <th>8</th>\n",
       "      <td>12</td>\n",
       "      <td>2364</td>\n",
       "      <td>[2282</td>\n",
       "    </tr>\n",
       "    <tr>\n",
       "      <th>9</th>\n",
       "      <td>11</td>\n",
       "      <td>2298</td>\n",
       "      <td>[2209</td>\n",
       "    </tr>\n",
       "    <tr>\n",
       "      <th>10</th>\n",
       "      <td>10</td>\n",
       "      <td>2231</td>\n",
       "      <td>[2137</td>\n",
       "    </tr>\n",
       "    <tr>\n",
       "      <th>11</th>\n",
       "      <td>9</td>\n",
       "      <td>2165</td>\n",
       "      <td>[2065</td>\n",
       "    </tr>\n",
       "    <tr>\n",
       "      <th>12</th>\n",
       "      <td>8</td>\n",
       "      <td>2099</td>\n",
       "      <td>[1993</td>\n",
       "    </tr>\n",
       "    <tr>\n",
       "      <th>13</th>\n",
       "      <td>7</td>\n",
       "      <td>2033</td>\n",
       "      <td>[1921</td>\n",
       "    </tr>\n",
       "    <tr>\n",
       "      <th>14</th>\n",
       "      <td>6</td>\n",
       "      <td>1966</td>\n",
       "      <td>[1849</td>\n",
       "    </tr>\n",
       "  </tbody>\n",
       "</table>\n",
       "</div>"
      ],
      "text/plain": [
       "    depth   elo     ci\n",
       "0      20  2894  [2859\n",
       "1      19  2828  [2786\n",
       "2      18  2761  [2714\n",
       "3      17  2695  [2642\n",
       "4      16  2629  [2570\n",
       "5      15  2563  [2498\n",
       "6      14  2496  [2426\n",
       "7      13  2430  [2354\n",
       "8      12  2364  [2282\n",
       "9      11  2298  [2209\n",
       "10     10  2231  [2137\n",
       "11      9  2165  [2065\n",
       "12      8  2099  [1993\n",
       "13      7  2033  [1921\n",
       "14      6  1966  [1849"
      ]
     },
     "execution_count": 50,
     "metadata": {},
     "output_type": "execute_result"
    }
   ],
   "source": [
    "ferreira = pd.read_csv('ferreira2012', index_col=False)\n",
    "ferreira"
   ]
  },
  {
   "cell_type": "code",
   "execution_count": 51,
   "metadata": {},
   "outputs": [],
   "source": [
    "x = ferreira['depth']\n",
    "y = ferreira['elo']\n",
    "x, y = np.array(x), np.array(y)"
   ]
  },
  {
   "cell_type": "code",
   "execution_count": 52,
   "metadata": {},
   "outputs": [
    {
     "name": "stdout",
     "output_type": "stream",
     "text": [
      "                            OLS Regression Results                            \n",
      "==============================================================================\n",
      "Dep. Variable:                      y   R-squared:                       1.000\n",
      "Model:                            OLS   Adj. R-squared:                  1.000\n",
      "Method:                 Least Squares   F-statistic:                 1.311e+07\n",
      "Date:                Mon, 31 Aug 2020   Prob (F-statistic):           2.06e-40\n",
      "Time:                        11:22:58   Log-Likelihood:                -2.4592\n",
      "No. Observations:                  15   AIC:                             8.918\n",
      "Df Residuals:                      13   BIC:                             10.33\n",
      "Df Model:                           1                                         \n",
      "Covariance Type:            nonrobust                                         \n",
      "==============================================================================\n",
      "                 coef    std err          t      P>|t|      [0.025      0.975]\n",
      "------------------------------------------------------------------------------\n",
      "const       1568.7905      0.251   6257.657      0.000    1568.249    1569.332\n",
      "x1            66.2571      0.018   3620.538      0.000      66.218      66.297\n",
      "==============================================================================\n",
      "Omnibus:                        3.379   Durbin-Watson:                   2.353\n",
      "Prob(Omnibus):                  0.185   Jarque-Bera (JB):                1.184\n",
      "Skew:                          -0.049   Prob(JB):                        0.553\n",
      "Kurtosis:                       1.627   Cond. No.                         43.6\n",
      "==============================================================================\n",
      "\n",
      "Notes:\n",
      "[1] Standard Errors assume that the covariance matrix of the errors is correctly specified.\n"
     ]
    },
    {
     "name": "stderr",
     "output_type": "stream",
     "text": [
      "/home/diogenes/.local/lib/python3.8/site-packages/scipy/stats/stats.py:1603: UserWarning: kurtosistest only valid for n>=20 ... continuing anyway, n=15\n",
      "  warnings.warn(\"kurtosistest only valid for n>=20 ... continuing \"\n"
     ]
    }
   ],
   "source": [
    "x = sm.add_constant(x)\n",
    "model = sm.OLS(y, x)\n",
    "results = model.fit()\n",
    "print(results.summary())"
   ]
  },
  {
   "cell_type": "code",
   "execution_count": 53,
   "metadata": {},
   "outputs": [
    {
     "data": {
      "text/plain": [
       "(1500.0, 3000.0)"
      ]
     },
     "execution_count": 53,
     "metadata": {},
     "output_type": "execute_result"
    },
    {
     "data": {
      "image/png": "[encoded data removed]",
      "text/plain": [
       "<Figure size 432x288 with 1 Axes>"
      ]
     },
     "metadata": {
      "needs_background": "light"
     },
     "output_type": "display_data"
    }
   ],
   "source": [
    "beta0 = 1568.7905\n",
    "beta1 = 66.2571\n",
    "\n",
    "plt.plot(data['depth'], data['elo'])\n",
    "plt.plot(np.arange(-0.5, 20.5), beta0 + beta1*np.arange(-0.5, 20.5), '--', color='blue') \n",
    "plt.xlim([0,20])\n",
    "plt.ylim([1500,3000])"
   ]
  },
  {
   "cell_type": "code",
   "execution_count": 49,
   "metadata": {},
   "outputs": [
    {
     "data": {
      "text/html": [
       "<div>\n",
       "<style scoped>\n",
       "    .dataframe tbody tr th:only-of-type {\n",
       "        vertical-align: middle;\n",
       "    }\n",
       "\n",
       "    .dataframe tbody tr th {\n",
       "        vertical-align: top;\n",
       "    }\n",
       "\n",
       "    .dataframe thead th {\n",
       "        text-align: right;\n",
       "    }\n",
       "</style>\n",
       "<table border=\"1\" class=\"dataframe\">\n",
       "  <thead>\n",
       "    <tr style=\"text-align: right;\">\n",
       "      <th></th>\n",
       "      <th>depth</th>\n",
       "      <th>elo</th>\n",
       "      <th>ci</th>\n",
       "    </tr>\n",
       "  </thead>\n",
       "  <tbody>\n",
       "    <tr>\n",
       "      <th>20</th>\n",
       "      <td>2894</td>\n",
       "      <td>[2859</td>\n",
       "      <td>2929]</td>\n",
       "    </tr>\n",
       "    <tr>\n",
       "      <th>19</th>\n",
       "      <td>2828</td>\n",
       "      <td>[2786</td>\n",
       "      <td>2868]</td>\n",
       "    </tr>\n",
       "    <tr>\n",
       "      <th>18</th>\n",
       "      <td>2761</td>\n",
       "      <td>[2714</td>\n",
       "      <td>2807]</td>\n",
       "    </tr>\n",
       "    <tr>\n",
       "      <th>17</th>\n",
       "      <td>2695</td>\n",
       "      <td>[2642</td>\n",
       "      <td>2745]</td>\n",
       "    </tr>\n",
       "    <tr>\n",
       "      <th>16</th>\n",
       "      <td>2629</td>\n",
       "      <td>[2570</td>\n",
       "      <td>2684]</td>\n",
       "    </tr>\n",
       "    <tr>\n",
       "      <th>15</th>\n",
       "      <td>2563</td>\n",
       "      <td>[2498</td>\n",
       "      <td>2623]</td>\n",
       "    </tr>\n",
       "    <tr>\n",
       "      <th>14</th>\n",
       "      <td>2496</td>\n",
       "      <td>[2426</td>\n",
       "      <td>2562]</td>\n",
       "    </tr>\n",
       "    <tr>\n",
       "      <th>13</th>\n",
       "      <td>2430</td>\n",
       "      <td>[2354</td>\n",
       "      <td>2500]</td>\n",
       "    </tr>\n",
       "    <tr>\n",
       "      <th>12</th>\n",
       "      <td>2364</td>\n",
       "      <td>[2282</td>\n",
       "      <td>2439]</td>\n",
       "    </tr>\n",
       "    <tr>\n",
       "      <th>11</th>\n",
       "      <td>2298</td>\n",
       "      <td>[2209</td>\n",
       "      <td>2378]</td>\n",
       "    </tr>\n",
       "    <tr>\n",
       "      <th>10</th>\n",
       "      <td>2231</td>\n",
       "      <td>[2137</td>\n",
       "      <td>2317]</td>\n",
       "    </tr>\n",
       "    <tr>\n",
       "      <th>9</th>\n",
       "      <td>2165</td>\n",
       "      <td>[2065</td>\n",
       "      <td>2255]\\t</td>\n",
       "    </tr>\n",
       "    <tr>\n",
       "      <th>8</th>\n",
       "      <td>2099</td>\n",
       "      <td>[1993</td>\n",
       "      <td>2194]</td>\n",
       "    </tr>\n",
       "    <tr>\n",
       "      <th>7</th>\n",
       "      <td>2033</td>\n",
       "      <td>[1921</td>\n",
       "      <td>2133]</td>\n",
       "    </tr>\n",
       "    <tr>\n",
       "      <th>6</th>\n",
       "      <td>1966</td>\n",
       "      <td>[1849</td>\n",
       "      <td>2071]</td>\n",
       "    </tr>\n",
       "  </tbody>\n",
       "</table>\n",
       "</div>"
      ],
      "text/plain": [
       "    depth    elo        ci\n",
       "20   2894  [2859     2929]\n",
       "19   2828  [2786     2868]\n",
       "18   2761  [2714     2807]\n",
       "17   2695  [2642     2745]\n",
       "16   2629  [2570     2684]\n",
       "15   2563  [2498     2623]\n",
       "14   2496  [2426     2562]\n",
       "13   2430  [2354     2500]\n",
       "12   2364  [2282     2439]\n",
       "11   2298  [2209     2378]\n",
       "10   2231  [2137     2317]\n",
       "9    2165  [2065   2255]\\t\n",
       "8    2099  [1993     2194]\n",
       "7    2033  [1921     2133]\n",
       "6    1966  [1849     2071]"
      ]
     },
     "execution_count": 49,
     "metadata": {},
     "output_type": "execute_result"
    }
   ],
   "source": [
    "ferreira = pd.read_csv('/home/diogenes/Projects/granmaster/datasheets/ferreira2012', sep=',')\n",
    "ferreira"
   ]
  },
  {
   "cell_type": "code",
   "execution_count": 48,
   "metadata": {},
   "outputs": [
    {
     "data": {
      "text/html": [
       "<div>\n",
       "<style scoped>\n",
       "    .dataframe tbody tr th:only-of-type {\n",
       "        vertical-align: middle;\n",
       "    }\n",
       "\n",
       "    .dataframe tbody tr th {\n",
       "        vertical-align: top;\n",
       "    }\n",
       "\n",
       "    .dataframe thead th {\n",
       "        text-align: right;\n",
       "    }\n",
       "</style>\n",
       "<table border=\"1\" class=\"dataframe\">\n",
       "  <thead>\n",
       "    <tr style=\"text-align: right;\">\n",
       "      <th></th>\n",
       "      <th>level</th>\n",
       "      <th>skill</th>\n",
       "      <th>depth</th>\n",
       "      <th>time</th>\n",
       "      <th>elo</th>\n",
       "      <th>nelo</th>\n",
       "    </tr>\n",
       "  </thead>\n",
       "  <tbody>\n",
       "    <tr>\n",
       "      <th>0</th>\n",
       "      <td>1</td>\n",
       "      <td>3</td>\n",
       "      <td>1</td>\n",
       "      <td>50</td>\n",
       "      <td>1635</td>\n",
       "      <td>245.25</td>\n",
       "    </tr>\n",
       "    <tr>\n",
       "      <th>1</th>\n",
       "      <td>2</td>\n",
       "      <td>6</td>\n",
       "      <td>2</td>\n",
       "      <td>100</td>\n",
       "      <td>1701</td>\n",
       "      <td>510.30</td>\n",
       "    </tr>\n",
       "    <tr>\n",
       "      <th>2</th>\n",
       "      <td>3</td>\n",
       "      <td>9</td>\n",
       "      <td>3</td>\n",
       "      <td>150</td>\n",
       "      <td>1767</td>\n",
       "      <td>795.15</td>\n",
       "    </tr>\n",
       "    <tr>\n",
       "      <th>3</th>\n",
       "      <td>4</td>\n",
       "      <td>11</td>\n",
       "      <td>4</td>\n",
       "      <td>200</td>\n",
       "      <td>1833</td>\n",
       "      <td>1008.15</td>\n",
       "    </tr>\n",
       "    <tr>\n",
       "      <th>4</th>\n",
       "      <td>5</td>\n",
       "      <td>14</td>\n",
       "      <td>6</td>\n",
       "      <td>250</td>\n",
       "      <td>1966</td>\n",
       "      <td>1376.20</td>\n",
       "    </tr>\n",
       "    <tr>\n",
       "      <th>5</th>\n",
       "      <td>6</td>\n",
       "      <td>17</td>\n",
       "      <td>8</td>\n",
       "      <td>300</td>\n",
       "      <td>2099</td>\n",
       "      <td>1784.15</td>\n",
       "    </tr>\n",
       "    <tr>\n",
       "      <th>6</th>\n",
       "      <td>7</td>\n",
       "      <td>20</td>\n",
       "      <td>10</td>\n",
       "      <td>350</td>\n",
       "      <td>2231</td>\n",
       "      <td>2231.00</td>\n",
       "    </tr>\n",
       "    <tr>\n",
       "      <th>7</th>\n",
       "      <td>8</td>\n",
       "      <td>20</td>\n",
       "      <td>12</td>\n",
       "      <td>400</td>\n",
       "      <td>2364</td>\n",
       "      <td>2364.00</td>\n",
       "    </tr>\n",
       "  </tbody>\n",
       "</table>\n",
       "</div>"
      ],
      "text/plain": [
       "   level  skill  depth  time   elo     nelo\n",
       "0      1      3      1    50  1635   245.25\n",
       "1      2      6      2   100  1701   510.30\n",
       "2      3      9      3   150  1767   795.15\n",
       "3      4     11      4   200  1833  1008.15\n",
       "4      5     14      6   250  1966  1376.20\n",
       "5      6     17      8   300  2099  1784.15\n",
       "6      7     20     10   350  2231  2231.00\n",
       "7      8     20     12   400  2364  2364.00"
      ]
     },
     "execution_count": 48,
     "metadata": {},
     "output_type": "execute_result"
    }
   ],
   "source": [
    "lichess = pd.read_csv('/home/diogenes/Projects/granmaster/datasheets/lichess_stockfish_depth.csv', sep=' ')\n",
    "\n",
    "lichess['nelo'] = lichess['elo'] * (lichess['skill'] / 20)\n",
    "lichess"
   ]
  },
  {
   "cell_type": "code",
   "execution_count": 12,
   "metadata": {},
   "outputs": [
    {
     "data": {
      "text/plain": [
       "[<matplotlib.lines.Line2D at 0x7fd224ee83a0>]"
      ]
     },
     "execution_count": 12,
     "metadata": {},
     "output_type": "execute_result"
    },
    {
     "data": {
      "image/png": "[encoded data removed]",
      "text/plain": [
       "<Figure size 432x288 with 1 Axes>"
      ]
     },
     "metadata": {
      "needs_background": "light"
     },
     "output_type": "display_data"
    }
   ],
   "source": [
    "plt.plot(data['skill'], data['nelo'])"
   ]
  },
  {
   "cell_type": "code",
   "execution_count": 74,
   "metadata": {},
   "outputs": [
    {
     "data": {
      "image/png": "[encoded data removed]",
      "text/plain": [
       "<Figure size 432x288 with 2 Axes>"
      ]
     },
     "metadata": {
      "needs_background": "light"
     },
     "output_type": "display_data"
    }
   ],
   "source": [
    "beta0 = 1568.7905\n",
    "beta1 = 66.2571\n",
    "\n",
    "x1 = np.arange(-0.5, 15.5)\n",
    "y1 = beta0 + beta1*x1\n",
    "\n",
    "x2 = np.arange(1,20.05, 0.1)\n",
    "y2 = 2500 / (1 + np.exp(-0.3*x2))\n",
    "\n",
    "fig, axes = plt.subplots(1, 2, sharex=True)\n",
    "axes[0].plot(data['elo'], data['depth'])\n",
    "axes[0].plot(y1, x1, '--', color='blue') \n",
    "axes[0].set_xlim(1000,3000)\n",
    "#axes[0].set_ylim(1500,3000)\n",
    "axes[0].set_xlabel(\"ELO\", fontsize=14)\n",
    "axes[0].set_ylabel(\"Depth\", fontsize=14);\n",
    "\n",
    "axes[1].plot(y2,x2)\n",
    "#axes[1].set_xlim([0.5,20.5])\n",
    "axes[1].set_xlabel(\"ELO\", fontsize=14)\n",
    "axes[1].set_ylabel(\"skill\", fontsize=14);"
   ]
  },
  {
   "cell_type": "code",
   "execution_count": 54,
   "metadata": {},
   "outputs": [
    {
     "data": {
      "text/plain": [
       "(1500.0, 3000.0)"
      ]
     },
     "execution_count": 54,
     "metadata": {},
     "output_type": "execute_result"
    },
    {
     "data": {
      "image/png": "[encoded data removed]",
      "text/plain": [
       "<Figure size 432x288 with 1 Axes>"
      ]
     },
     "metadata": {
      "needs_background": "light"
     },
     "output_type": "display_data"
    }
   ],
   "source": []
  }
 ],
 "metadata": {
  "kernelspec": {
   "display_name": "Python 3",
   "language": "python",
   "name": "python3"
  },
  "language_info": {
   "codemirror_mode": {
    "name": "ipython",
    "version": 3
   },
   "file_extension": ".py",
   "mimetype": "text/x-python",
   "name": "python",
   "nbconvert_exporter": "python",
   "pygments_lexer": "ipython3",
   "version": "3.8.5"
  }
 },
 "nbformat": 4,
 "nbformat_minor": 4
}
